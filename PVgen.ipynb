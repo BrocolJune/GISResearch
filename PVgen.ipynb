{
 "cells": [
  {
   "cell_type": "code",
   "execution_count": 1,
   "id": "b2d0c660-600c-42a9-a8a7-e60675d783c8",
   "metadata": {},
   "outputs": [
    {
     "name": "stdout",
     "output_type": "stream",
     "text": [
      "\u001b[0mvessl, version 0.1.192\n",
      "\u001b[0m\u001b[0m"
     ]
    }
   ],
   "source": [
    "!vessl --version"
   ]
  },
  {
   "cell_type": "code",
   "execution_count": 6,
   "id": "ba69c2dd-5a88-49cd-8841-6343e3da546a",
   "metadata": {},
   "outputs": [
    {
     "name": "stdout",
     "output_type": "stream",
     "text": [
      "Collecting rasterio\n",
      "  Downloading rasterio-1.4.3-cp310-cp310-manylinux_2_17_x86_64.manylinux2014_x86_64.whl.metadata (9.1 kB)\n",
      "Collecting affine (from rasterio)\n",
      "  Downloading affine-2.4.0-py3-none-any.whl.metadata (4.0 kB)\n",
      "Requirement already satisfied: attrs in /usr/local/lib/python3.10/dist-packages (from rasterio) (24.2.0)\n",
      "Requirement already satisfied: certifi in /usr/local/lib/python3.10/dist-packages (from rasterio) (2024.7.4)\n",
      "Requirement already satisfied: click>=4.0 in /usr/local/lib/python3.10/dist-packages (from rasterio) (8.1.7)\n",
      "Collecting cligj>=0.5 (from rasterio)\n",
      "  Downloading cligj-0.7.2-py3-none-any.whl.metadata (5.0 kB)\n",
      "Requirement already satisfied: numpy>=1.24 in /usr/local/lib/python3.10/dist-packages (from rasterio) (1.24.4)\n",
      "Collecting click-plugins (from rasterio)\n",
      "  Downloading click_plugins-1.1.1-py2.py3-none-any.whl.metadata (6.4 kB)\n",
      "Requirement already satisfied: pyparsing in /usr/lib/python3/dist-packages (from rasterio) (2.4.7)\n",
      "Downloading rasterio-1.4.3-cp310-cp310-manylinux_2_17_x86_64.manylinux2014_x86_64.whl (22.2 MB)\n",
      "\u001b[2K   \u001b[90m━━━━━━━━━━━━━━━━━━━━━━━━━━━━━━━━━━━━━━━━\u001b[0m \u001b[32m22.2/22.2 MB\u001b[0m \u001b[31m13.6 MB/s\u001b[0m eta \u001b[36m0:00:00\u001b[0m00:01\u001b[0m00:01\u001b[0m\n",
      "\u001b[?25hDownloading cligj-0.7.2-py3-none-any.whl (7.1 kB)\n",
      "Downloading affine-2.4.0-py3-none-any.whl (15 kB)\n",
      "Downloading click_plugins-1.1.1-py2.py3-none-any.whl (7.5 kB)\n",
      "Installing collected packages: cligj, click-plugins, affine, rasterio\n",
      "Successfully installed affine-2.4.0 click-plugins-1.1.1 cligj-0.7.2 rasterio-1.4.3\n",
      "\u001b[33mWARNING: Running pip as the 'root' user can result in broken permissions and conflicting behaviour with the system package manager, possibly rendering your system unusable. It is recommended to use a virtual environment instead: https://pip.pypa.io/warnings/venv. Use the --root-user-action option if you know what you are doing and want to suppress this warning.\u001b[0m\u001b[33m\n",
      "\u001b[0mNote: you may need to restart the kernel to use updated packages.\n"
     ]
    }
   ],
   "source": [
    "pip install rasterio"
   ]
  },
  {
   "cell_type": "code",
   "execution_count": 8,
   "id": "1c5de57b-17e7-402d-b25e-6ac15ffe2247",
   "metadata": {},
   "outputs": [
    {
     "name": "stdout",
     "output_type": "stream",
     "text": [
      "False\n",
      "True\n"
     ]
    }
   ],
   "source": [
    "import os\n",
    "print(os.path.exists(r\"E:\\2025_Jeju_SectorCoupling\\PVgen_Jeju\"))  # True여야 함\n",
    "print(os.path.exists(r\"F:\\Junkyo\\2025 Jeju Sector Coupling\\PVgen\"))  # True여야 함\n"
   ]
  },
  {
   "cell_type": "code",
   "execution_count": 9,
   "id": "23557fd9-4e0a-4c0b-b77b-695e1653736b",
   "metadata": {},
   "outputs": [
    {
     "name": "stdout",
     "output_type": "stream",
     "text": [
      "/My Drive\n"
     ]
    }
   ],
   "source": [
    "import os\n",
    "print(os.getcwd())  # 현재 작업 디렉토리 확인\n"
   ]
  },
  {
   "cell_type": "code",
   "execution_count": 11,
   "id": "10df51c6-c263-46fa-9437-bd99e8d9f9bd",
   "metadata": {},
   "outputs": [
    {
     "name": "stdout",
     "output_type": "stream",
     "text": [
      "False\n"
     ]
    },
    {
     "ename": "NameError",
     "evalue": "name 'subst' is not defined",
     "output_type": "error",
     "traceback": [
      "\u001b[0;31m---------------------------------------------------------------------------\u001b[0m",
      "\u001b[0;31mNameError\u001b[0m                                 Traceback (most recent call last)",
      "Cell \u001b[0;32mIn[11], line 2\u001b[0m\n\u001b[1;32m      1\u001b[0m \u001b[38;5;28mprint\u001b[39m(os\u001b[38;5;241m.\u001b[39mpath\u001b[38;5;241m.\u001b[39mexists(\u001b[38;5;124m\"\u001b[39m\u001b[38;5;124mE:/\u001b[39m\u001b[38;5;124m\"\u001b[39m))\n\u001b[0;32m----> 2\u001b[0m \u001b[43msubst\u001b[49m\n",
      "\u001b[0;31mNameError\u001b[0m: name 'subst' is not defined"
     ]
    }
   ],
   "source": [
    "print(os.path.exists(\"E:/\"))\n",
    "subst\n"
   ]
  },
  {
   "cell_type": "code",
   "execution_count": 7,
   "id": "7048a9e9-8b76-491b-a844-8a7056ffc5a8",
   "metadata": {},
   "outputs": [
    {
     "ename": "FileNotFoundError",
     "evalue": "[Errno 2] No such file or directory: 'E:\\\\2025_Jeju_SectorCoupling\\\\PVgen_Jeju'",
     "output_type": "error",
     "traceback": [
      "\u001b[0;31m---------------------------------------------------------------------------\u001b[0m",
      "\u001b[0;31mFileNotFoundError\u001b[0m                         Traceback (most recent call last)",
      "Cell \u001b[0;32mIn[7], line 13\u001b[0m\n\u001b[1;32m     10\u001b[0m os\u001b[38;5;241m.\u001b[39mmakedirs(output_dir, exist_ok\u001b[38;5;241m=\u001b[39m\u001b[38;5;28;01mTrue\u001b[39;00m)\n\u001b[1;32m     12\u001b[0m \u001b[38;5;66;03m# 래스터 파일 정렬\u001b[39;00m\n\u001b[0;32m---> 13\u001b[0m files \u001b[38;5;241m=\u001b[39m {k: \u001b[38;5;28msorted\u001b[39m(f \u001b[38;5;28;01mfor\u001b[39;00m f \u001b[38;5;129;01min\u001b[39;00m os\u001b[38;5;241m.\u001b[39mlistdir(v) \u001b[38;5;28;01mif\u001b[39;00m f\u001b[38;5;241m.\u001b[39mendswith(\u001b[38;5;124m\"\u001b[39m\u001b[38;5;124m.tif\u001b[39m\u001b[38;5;124m\"\u001b[39m)) \u001b[38;5;28;01mfor\u001b[39;00m k, v \u001b[38;5;129;01min\u001b[39;00m dirs\u001b[38;5;241m.\u001b[39mitems()}\n\u001b[1;32m     14\u001b[0m \u001b[38;5;28;01mif\u001b[39;00m \u001b[38;5;28mlen\u001b[39m(\u001b[38;5;28mset\u001b[39m(\u001b[38;5;28mmap\u001b[39m(\u001b[38;5;28mlen\u001b[39m, files\u001b[38;5;241m.\u001b[39mvalues()))) \u001b[38;5;241m!=\u001b[39m \u001b[38;5;241m1\u001b[39m:\n\u001b[1;32m     15\u001b[0m     \u001b[38;5;28;01mraise\u001b[39;00m \u001b[38;5;167;01mValueError\u001b[39;00m(\u001b[38;5;124m\"\u001b[39m\u001b[38;5;124m각 디렉토리에 동일한 개수의 래스터 파일이 있어야 합니다.\u001b[39m\u001b[38;5;124m\"\u001b[39m)\n",
      "Cell \u001b[0;32mIn[7], line 13\u001b[0m, in \u001b[0;36m<dictcomp>\u001b[0;34m(.0)\u001b[0m\n\u001b[1;32m     10\u001b[0m os\u001b[38;5;241m.\u001b[39mmakedirs(output_dir, exist_ok\u001b[38;5;241m=\u001b[39m\u001b[38;5;28;01mTrue\u001b[39;00m)\n\u001b[1;32m     12\u001b[0m \u001b[38;5;66;03m# 래스터 파일 정렬\u001b[39;00m\n\u001b[0;32m---> 13\u001b[0m files \u001b[38;5;241m=\u001b[39m {k: \u001b[38;5;28msorted\u001b[39m(f \u001b[38;5;28;01mfor\u001b[39;00m f \u001b[38;5;129;01min\u001b[39;00m \u001b[43mos\u001b[49m\u001b[38;5;241;43m.\u001b[39;49m\u001b[43mlistdir\u001b[49m\u001b[43m(\u001b[49m\u001b[43mv\u001b[49m\u001b[43m)\u001b[49m \u001b[38;5;28;01mif\u001b[39;00m f\u001b[38;5;241m.\u001b[39mendswith(\u001b[38;5;124m\"\u001b[39m\u001b[38;5;124m.tif\u001b[39m\u001b[38;5;124m\"\u001b[39m)) \u001b[38;5;28;01mfor\u001b[39;00m k, v \u001b[38;5;129;01min\u001b[39;00m dirs\u001b[38;5;241m.\u001b[39mitems()}\n\u001b[1;32m     14\u001b[0m \u001b[38;5;28;01mif\u001b[39;00m \u001b[38;5;28mlen\u001b[39m(\u001b[38;5;28mset\u001b[39m(\u001b[38;5;28mmap\u001b[39m(\u001b[38;5;28mlen\u001b[39m, files\u001b[38;5;241m.\u001b[39mvalues()))) \u001b[38;5;241m!=\u001b[39m \u001b[38;5;241m1\u001b[39m:\n\u001b[1;32m     15\u001b[0m     \u001b[38;5;28;01mraise\u001b[39;00m \u001b[38;5;167;01mValueError\u001b[39;00m(\u001b[38;5;124m\"\u001b[39m\u001b[38;5;124m각 디렉토리에 동일한 개수의 래스터 파일이 있어야 합니다.\u001b[39m\u001b[38;5;124m\"\u001b[39m)\n",
      "\u001b[0;31mFileNotFoundError\u001b[0m: [Errno 2] No such file or directory: 'E:\\\\2025_Jeju_SectorCoupling\\\\PVgen_Jeju'"
     ]
    }
   ],
   "source": [
    "import os\n",
    "import re\n",
    "import numpy as np\n",
    "import rasterio\n",
    "import xml.etree.ElementTree as ET\n",
    "\n",
    "# 입력 및 출력 디렉토리 설정\n",
    "dirs = {k: fr\"F:\\Junkyo\\2025 Jeju Sector Coupling\\PVgen_{k.capitalize()}\" for k in [\"jeju\", \"gosan\", \"seoguipo\"]}\n",
    "output_dir = r\"F:\\Junkyo\\2025 Jeju Sector Coupling\\PVgen\"\n",
    "os.makedirs(output_dir, exist_ok=True)\n",
    "\n",
    "# 래스터 파일 정렬\n",
    "files = {k: sorted(f for f in os.listdir(v) if f.endswith(\".tif\")) for k, v in dirs.items()}\n",
    "if len(set(map(len, files.values()))) != 1:\n",
    "    raise ValueError(\"각 디렉토리에 동일한 개수의 래스터 파일이 있어야 합니다.\")\n",
    "\n",
    "# 파일명 정리 함수\n",
    "def clean_filename(filename):\n",
    "    return re.sub(r\"^.*?(\\d{4}-\\d{2}-\\d{2}.*)\", r\"\\1\", filename)\n",
    "\n",
    "# TFW 및 XML 저장 함수\n",
    "def save_tfw(transform, path):\n",
    "    with open(path, 'w') as f:\n",
    "        f.writelines(f\"{v:.10f}\\n\" for v in [transform.a, transform.b, transform.d, transform.e, transform.xoff, transform.yoff])\n",
    "\n",
    "def save_xml(metadata, path):\n",
    "    root = ET.Element(\"RasterMetadata\")\n",
    "    ET.SubElement(root, \"CRS\").text = metadata[\"crs\"]\n",
    "    ET.SubElement(root, \"NoDataValue\").text = str(metadata[\"nodata\"])\n",
    "    transform = ET.SubElement(root, \"Transform\")\n",
    "    for k, v in zip([\"PixelSizeX\", \"PixelSizeY\", \"UpperLeftX\", \"UpperLeftY\"], metadata[\"transform\"][:6:2]):\n",
    "        ET.SubElement(transform, k).text = str(v)\n",
    "    sources = ET.SubElement(root, \"SourceFiles\")\n",
    "    [ET.SubElement(sources, \"File\").text for f in metadata[\"source_files\"]]\n",
    "    ET.ElementTree(root).write(path, encoding=\"utf-8\", xml_declaration=True)\n",
    "\n",
    "# 래스터 병합 및 저장\n",
    "for f1, f2, f3 in zip(*files.values()):\n",
    "    raster_paths = {k: os.path.join(dirs[k], f) for k, f in zip(dirs, [f1, f2, f3])}\n",
    "    with rasterio.open(raster_paths[\"jeju\"]) as ref:\n",
    "        transform, profile = ref.transform, ref.profile.copy()\n",
    "        arrays = [np.nan_to_num(rasterio.open(r).read(1), nan=0) for r in raster_paths.values()]\n",
    "        result_arr = sum(arrays)\n",
    "    \n",
    "    output_name = f\"TotalSolargen_{clean_filename(f1)}\"\n",
    "    output_paths = {ext: os.path.join(output_dir, output_name + ext) for ext in [\".tif\", \".tfw\", \".xml\"]}\n",
    "    \n",
    "    profile.update(dtype=rasterio.float32, count=1, compress='lzw')\n",
    "    with rasterio.open(output_paths[\".tif\"], 'w', **profile) as dst:\n",
    "        dst.write(result_arr, 1)\n",
    "    \n",
    "    save_tfw(transform, output_paths[\".tfw\"])\n",
    "    save_xml({\"source_files\": [f1, f2, f3], \"transform\": transform.to_gdal(), \"crs\": str(ref.crs), \"nodata\": profile.get(\"nodata\", None)}, output_paths[\".xml\"])\n",
    "    \n",
    "    print(f\"저장 완료: {output_paths}\")\n",
    "\n",
    "print(\"모든 래스터 병합 완료.\")"
   ]
  },
  {
   "cell_type": "code",
   "execution_count": null,
   "id": "60f1d73a-7a41-4fae-bb40-b315ffc1c561",
   "metadata": {},
   "outputs": [],
   "source": []
  }
 ],
 "metadata": {
  "kernelspec": {
   "display_name": "Python 3 (ipykernel)",
   "language": "python",
   "name": "python3"
  },
  "language_info": {
   "codemirror_mode": {
    "name": "ipython",
    "version": 3
   },
   "file_extension": ".py",
   "mimetype": "text/x-python",
   "name": "python",
   "nbconvert_exporter": "python",
   "pygments_lexer": "ipython3",
   "version": "3.10.12"
  }
 },
 "nbformat": 4,
 "nbformat_minor": 5
}
