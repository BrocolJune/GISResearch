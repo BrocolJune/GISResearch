{
 "cells": [
  {
   "cell_type": "code",
   "execution_count": null,
   "metadata": {
    "vscode": {
     "languageId": "plaintext"
    }
   },
   "outputs": [],
   "source": [
    "pip install rasterio"
   ]
  },
  {
   "cell_type": "code",
   "execution_count": null,
   "metadata": {
    "vscode": {
     "languageId": "plaintext"
    }
   },
   "outputs": [],
   "source": [
    "import os\n",
    "import re\n",
    "import arcpy\n",
    "from datetime import datetime\n",
    "\n",
    "# CSV 파일 경로 설정\n",
    "csv_file = r\"E:\\2025_Jeju_SectorCoupling\\2024_Jeju_Solar.csv\"\n",
    "hillshade_dirs = {\n",
    "    '제주': r\"E:\\2025_Jeju_SectorCoupling\\SolarArea_Jeju\",\n",
    "    '고산': r\"E:\\2025_Jeju_SectorCoupling\\SolarArea_Gosan\",\n",
    "    '서귀포': r\"E:\\2025_Jeju_SectorCoupling\\SolarArea_Seoguipo\"\n",
    "}\n",
    "output_dirs = {\n",
    "    '제주': r\"E:\\2025_Jeju_SectorCoupling\\PVgen_Jeju\",\n",
    "    '고산': r\"E:\\2025_Jeju_SectorCoupling\\PVgen_Gosan\",\n",
    "    '서귀포': r\"E:\\2025_Jeju_SectorCoupling\\PVgen_Seoguipo\"\n",
    "}\n",
    "\n",
    "# 파일명에서 datetime 추출 함수\n",
    "def extract_datetime(filename):\n",
    "    match = re.search(r'(\\d{4}-\\d{2}-\\d{2} \\d{2})-\\d{2}-\\d{2}\\+\\d{2}-\\d{2}', filename)\n",
    "    return datetime.strptime(match.group(1), '%Y-%m-%d %H:%M') if match else None\n",
    "\n",
    "# CSV 파일을 ArcPy로 로드 (CSV를 테이블로 읽음)\n",
    "table = arcpy.da.TableToNumPyArray(csv_file, ['지점명', '일시', '일사(MJ/m2)'])\n",
    "\n",
    "# 각 행을 반복 처리\n",
    "for row in table:\n",
    "    location, timestamp = row['지점명'], row['일시']\n",
    "    if location not in hillshade_dirs:\n",
    "        continue\n",
    "    \n",
    "    # 해당 지점의 Hillshade 파일 가져오기\n",
    "    raster_files = arcpy.ListFiles(os.path.join(hillshade_dirs[location], '*.tif'))\n",
    "    \n",
    "    for raster_file in raster_files:\n",
    "        raster_time = extract_datetime(raster_file)\n",
    "        if raster_time != timestamp:\n",
    "            continue\n",
    "        \n",
    "        # Hillshade 래스터 열기 (ArcPy로 래스터 처리)\n",
    "        raster = arcpy.Raster(raster_file)\n",
    "        cell_area = raster.meanCellHeight * raster.meanCellWidth\n",
    "        \n",
    "        # 일사량(MJ/m2)을 'irradiance' 변수에 반영\n",
    "        irradiance = row['일사(MJ/m2)']\n",
    "        \n",
    "        # Hillshade가 null인 경우 결과도 null로 설정\n",
    "        hillshade_factor = arcpy.sa.Con(arcpy.sa.IsNull(raster), None, arcpy.sa.Con(raster == 0, 0, 1))  \n",
    "        # Con(Null일 경우 None, Hillshade가 0이면 0, 그렇지 않으면 1)\n",
    "        \n",
    "        # 발전량 계산 (None 값에 대해 NaN을 설정하여 계산 오류 방지)\n",
    "        solar_generation = arcpy.sa.Con(hillshade_factor != None, irradiance * 0.22 * cell_area * hillshade_factor, None)\n",
    "        \n",
    "        # 결과를 새로운 래스터 파일로 저장\n",
    "        output_filename = f\"PVgen_{location}_{timestamp.strftime('%Y-%m-%d %H-%M')}.tif\"\n",
    "        output_path = os.path.join(output_dirs[location], output_filename)\n",
    "        \n",
    "        # ArcPy로 래스터 결과 저장\n",
    "        solar_generation.save(output_path)\n",
    "        \n",
    "        # 파일이 저장되었음을 알림\n",
    "        print(f\"파일이 저장되었습니다: {output_path}\")\n"
   ]
  }
 ],
 "metadata": {
  "language_info": {
   "name": "python"
  }
 },
 "nbformat": 4,
 "nbformat_minor": 2
}
