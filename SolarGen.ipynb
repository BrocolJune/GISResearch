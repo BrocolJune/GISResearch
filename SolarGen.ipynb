{
 "cells": [
  {
   "cell_type": "code",
<<<<<<< HEAD
   "execution_count": 1,
=======
   "execution_count": null,
>>>>>>> e04d4cb1e9922b9e6a42a81e9931b4db1c9e6b3c
   "metadata": {},
   "outputs": [
    {
     "ename": "",
     "evalue": "",
     "output_type": "error",
     "traceback": [
      "\u001b[1;31mRunning cells with 'Python 3.13.2' requires the ipykernel package.\n",
      "\u001b[1;31mRun the following command to install 'ipykernel' into the Python environment. \n",
      "\u001b[1;31mCommand: 'c:/Users/kjj04/AppData/Local/Programs/Python/Python313-arm64/python.exe -m pip install ipykernel -U --user --force-reinstall'"
     ]
    }
   ],
   "source": [
    "pip install rasterio # type: ignore;"
   ]
  },
  {
   "cell_type": "code",
   "execution_count": 2,
   "metadata": {},
   "outputs": [
    {
     "name": "stdout",
     "output_type": "stream",
     "text": [
      "Collecting pandas\n",
      "  Downloading pandas-2.2.3-cp313-cp313-win_amd64.whl.metadata (19 kB)\n",
      "Requirement already satisfied: numpy>=1.26.0 in c:\\users\\82105\\appdata\\local\\programs\\python\\python313\\lib\\site-packages (from pandas) (2.2.4)\n",
      "Requirement already satisfied: python-dateutil>=2.8.2 in c:\\users\\82105\\appdata\\roaming\\python\\python313\\site-packages (from pandas) (2.9.0.post0)\n",
      "Collecting pytz>=2020.1 (from pandas)\n",
      "  Downloading pytz-2025.1-py2.py3-none-any.whl.metadata (22 kB)\n",
      "Collecting tzdata>=2022.7 (from pandas)\n",
      "  Downloading tzdata-2025.2-py2.py3-none-any.whl.metadata (1.4 kB)\n",
      "Requirement already satisfied: six>=1.5 in c:\\users\\82105\\appdata\\roaming\\python\\python313\\site-packages (from python-dateutil>=2.8.2->pandas) (1.17.0)\n",
      "Downloading pandas-2.2.3-cp313-cp313-win_amd64.whl (11.5 MB)\n",
      "   ---------------------------------------- 0.0/11.5 MB ? eta -:--:--\n",
      "   --- ------------------------------------ 1.0/11.5 MB 5.0 MB/s eta 0:00:03\n",
      "   ------- -------------------------------- 2.1/11.5 MB 5.4 MB/s eta 0:00:02\n",
      "   ---------- ----------------------------- 2.9/11.5 MB 5.0 MB/s eta 0:00:02\n",
      "   -------------- ------------------------- 4.2/11.5 MB 5.1 MB/s eta 0:00:02\n",
      "   ------------------ --------------------- 5.2/11.5 MB 5.2 MB/s eta 0:00:02\n",
      "   ---------------------- ----------------- 6.6/11.5 MB 5.4 MB/s eta 0:00:01\n",
      "   ---------------------------- ----------- 8.1/11.5 MB 5.7 MB/s eta 0:00:01\n",
      "   ---------------------------------- ----- 10.0/11.5 MB 6.2 MB/s eta 0:00:01\n",
      "   ---------------------------------------- 11.5/11.5 MB 6.4 MB/s eta 0:00:00\n",
      "Downloading pytz-2025.1-py2.py3-none-any.whl (507 kB)\n",
      "Downloading tzdata-2025.2-py2.py3-none-any.whl (347 kB)\n",
      "Installing collected packages: pytz, tzdata, pandas\n",
      "Successfully installed pandas-2.2.3 pytz-2025.1 tzdata-2025.2\n",
      "Note: you may need to restart the kernel to use updated packages.\n"
     ]
    }
   ],
   "source": [
    "pip install pandas"
   ]
  },
  {
   "cell_type": "code",
   "execution_count": 1,
   "metadata": {},
   "outputs": [
    {
     "name": "stdout",
     "output_type": "stream",
     "text": [
      "파일 존재 여부: True\n"
     ]
    }
   ],
   "source": [
    "import os\n",
    "csv_file = r\"E:\\2025_Jeju_SectorCoupling\\2024_Jeju_Solar.csv\"\n",
    "print(\"파일 존재 여부:\", os.path.exists(csv_file))\n"
   ]
  },
  {
   "cell_type": "code",
   "execution_count": 5,
   "metadata": {},
   "outputs": [
    {
     "ename": "UnicodeDecodeError",
     "evalue": "'utf-8' codec can't decode byte 0xc1 in position 0: invalid start byte",
     "output_type": "error",
     "traceback": [
      "\u001b[31m---------------------------------------------------------------------------\u001b[39m",
      "\u001b[31mUnicodeDecodeError\u001b[39m                        Traceback (most recent call last)",
      "\u001b[36mCell\u001b[39m\u001b[36m \u001b[39m\u001b[32mIn[5]\u001b[39m\u001b[32m, line 22\u001b[39m\n\u001b[32m     15\u001b[39m output_dirs = {\n\u001b[32m     16\u001b[39m     \u001b[33m'\u001b[39m\u001b[33m제주\u001b[39m\u001b[33m'\u001b[39m: \u001b[33mr\u001b[39m\u001b[33m\"\u001b[39m\u001b[33mE:\u001b[39m\u001b[33m\\\u001b[39m\u001b[33m2025_Jeju_SectorCoupling\u001b[39m\u001b[33m\\\u001b[39m\u001b[33mPVgen_Jeju\u001b[39m\u001b[33m\"\u001b[39m,\n\u001b[32m     17\u001b[39m     \u001b[33m'\u001b[39m\u001b[33m고산\u001b[39m\u001b[33m'\u001b[39m: \u001b[33mr\u001b[39m\u001b[33m\"\u001b[39m\u001b[33mE:\u001b[39m\u001b[33m\\\u001b[39m\u001b[33m2025_Jeju_SectorCoupling\u001b[39m\u001b[33m\\\u001b[39m\u001b[33mPVgen_Gosan\u001b[39m\u001b[33m\"\u001b[39m,\n\u001b[32m     18\u001b[39m     \u001b[33m'\u001b[39m\u001b[33m서귀포\u001b[39m\u001b[33m'\u001b[39m: \u001b[33mr\u001b[39m\u001b[33m\"\u001b[39m\u001b[33mE:\u001b[39m\u001b[33m\\\u001b[39m\u001b[33m2025_Jeju_SectorCoupling\u001b[39m\u001b[33m\\\u001b[39m\u001b[33mPVgen_Seoguipo\u001b[39m\u001b[33m\"\u001b[39m\n\u001b[32m     19\u001b[39m }\n\u001b[32m     21\u001b[39m \u001b[38;5;66;03m# CSV 파일 로드\u001b[39;00m\n\u001b[32m---> \u001b[39m\u001b[32m22\u001b[39m df = \u001b[43mpd\u001b[49m\u001b[43m.\u001b[49m\u001b[43mread_csv\u001b[49m\u001b[43m(\u001b[49m\u001b[43mcsv_file\u001b[49m\u001b[43m,\u001b[49m\u001b[43m \u001b[49m\u001b[43mencoding\u001b[49m\u001b[43m=\u001b[49m\u001b[33;43m'\u001b[39;49m\u001b[33;43mutf-8\u001b[39;49m\u001b[33;43m'\u001b[39;49m\u001b[43m)\u001b[49m\n\u001b[32m     24\u001b[39m \u001b[38;5;66;03m# 일시 형식 변환 함수\u001b[39;00m\n\u001b[32m     25\u001b[39m \u001b[38;5;28;01mdef\u001b[39;00m\u001b[38;5;250m \u001b[39m\u001b[34mconvert_timestamp\u001b[39m(timestamp):\n",
      "\u001b[36mFile \u001b[39m\u001b[32mc:\\Users\\82105\\AppData\\Local\\Programs\\Python\\Python313\\Lib\\site-packages\\pandas\\io\\parsers\\readers.py:1026\u001b[39m, in \u001b[36mread_csv\u001b[39m\u001b[34m(filepath_or_buffer, sep, delimiter, header, names, index_col, usecols, dtype, engine, converters, true_values, false_values, skipinitialspace, skiprows, skipfooter, nrows, na_values, keep_default_na, na_filter, verbose, skip_blank_lines, parse_dates, infer_datetime_format, keep_date_col, date_parser, date_format, dayfirst, cache_dates, iterator, chunksize, compression, thousands, decimal, lineterminator, quotechar, quoting, doublequote, escapechar, comment, encoding, encoding_errors, dialect, on_bad_lines, delim_whitespace, low_memory, memory_map, float_precision, storage_options, dtype_backend)\u001b[39m\n\u001b[32m   1013\u001b[39m kwds_defaults = _refine_defaults_read(\n\u001b[32m   1014\u001b[39m     dialect,\n\u001b[32m   1015\u001b[39m     delimiter,\n\u001b[32m   (...)\u001b[39m\u001b[32m   1022\u001b[39m     dtype_backend=dtype_backend,\n\u001b[32m   1023\u001b[39m )\n\u001b[32m   1024\u001b[39m kwds.update(kwds_defaults)\n\u001b[32m-> \u001b[39m\u001b[32m1026\u001b[39m \u001b[38;5;28;01mreturn\u001b[39;00m \u001b[43m_read\u001b[49m\u001b[43m(\u001b[49m\u001b[43mfilepath_or_buffer\u001b[49m\u001b[43m,\u001b[49m\u001b[43m \u001b[49m\u001b[43mkwds\u001b[49m\u001b[43m)\u001b[49m\n",
      "\u001b[36mFile \u001b[39m\u001b[32mc:\\Users\\82105\\AppData\\Local\\Programs\\Python\\Python313\\Lib\\site-packages\\pandas\\io\\parsers\\readers.py:620\u001b[39m, in \u001b[36m_read\u001b[39m\u001b[34m(filepath_or_buffer, kwds)\u001b[39m\n\u001b[32m    617\u001b[39m _validate_names(kwds.get(\u001b[33m\"\u001b[39m\u001b[33mnames\u001b[39m\u001b[33m\"\u001b[39m, \u001b[38;5;28;01mNone\u001b[39;00m))\n\u001b[32m    619\u001b[39m \u001b[38;5;66;03m# Create the parser.\u001b[39;00m\n\u001b[32m--> \u001b[39m\u001b[32m620\u001b[39m parser = \u001b[43mTextFileReader\u001b[49m\u001b[43m(\u001b[49m\u001b[43mfilepath_or_buffer\u001b[49m\u001b[43m,\u001b[49m\u001b[43m \u001b[49m\u001b[43m*\u001b[49m\u001b[43m*\u001b[49m\u001b[43mkwds\u001b[49m\u001b[43m)\u001b[49m\n\u001b[32m    622\u001b[39m \u001b[38;5;28;01mif\u001b[39;00m chunksize \u001b[38;5;129;01mor\u001b[39;00m iterator:\n\u001b[32m    623\u001b[39m     \u001b[38;5;28;01mreturn\u001b[39;00m parser\n",
      "\u001b[36mFile \u001b[39m\u001b[32mc:\\Users\\82105\\AppData\\Local\\Programs\\Python\\Python313\\Lib\\site-packages\\pandas\\io\\parsers\\readers.py:1620\u001b[39m, in \u001b[36mTextFileReader.__init__\u001b[39m\u001b[34m(self, f, engine, **kwds)\u001b[39m\n\u001b[32m   1617\u001b[39m     \u001b[38;5;28mself\u001b[39m.options[\u001b[33m\"\u001b[39m\u001b[33mhas_index_names\u001b[39m\u001b[33m\"\u001b[39m] = kwds[\u001b[33m\"\u001b[39m\u001b[33mhas_index_names\u001b[39m\u001b[33m\"\u001b[39m]\n\u001b[32m   1619\u001b[39m \u001b[38;5;28mself\u001b[39m.handles: IOHandles | \u001b[38;5;28;01mNone\u001b[39;00m = \u001b[38;5;28;01mNone\u001b[39;00m\n\u001b[32m-> \u001b[39m\u001b[32m1620\u001b[39m \u001b[38;5;28mself\u001b[39m._engine = \u001b[38;5;28;43mself\u001b[39;49m\u001b[43m.\u001b[49m\u001b[43m_make_engine\u001b[49m\u001b[43m(\u001b[49m\u001b[43mf\u001b[49m\u001b[43m,\u001b[49m\u001b[43m \u001b[49m\u001b[38;5;28;43mself\u001b[39;49m\u001b[43m.\u001b[49m\u001b[43mengine\u001b[49m\u001b[43m)\u001b[49m\n",
      "\u001b[36mFile \u001b[39m\u001b[32mc:\\Users\\82105\\AppData\\Local\\Programs\\Python\\Python313\\Lib\\site-packages\\pandas\\io\\parsers\\readers.py:1898\u001b[39m, in \u001b[36mTextFileReader._make_engine\u001b[39m\u001b[34m(self, f, engine)\u001b[39m\n\u001b[32m   1895\u001b[39m     \u001b[38;5;28;01mraise\u001b[39;00m \u001b[38;5;167;01mValueError\u001b[39;00m(msg)\n\u001b[32m   1897\u001b[39m \u001b[38;5;28;01mtry\u001b[39;00m:\n\u001b[32m-> \u001b[39m\u001b[32m1898\u001b[39m     \u001b[38;5;28;01mreturn\u001b[39;00m \u001b[43mmapping\u001b[49m\u001b[43m[\u001b[49m\u001b[43mengine\u001b[49m\u001b[43m]\u001b[49m\u001b[43m(\u001b[49m\u001b[43mf\u001b[49m\u001b[43m,\u001b[49m\u001b[43m \u001b[49m\u001b[43m*\u001b[49m\u001b[43m*\u001b[49m\u001b[38;5;28;43mself\u001b[39;49m\u001b[43m.\u001b[49m\u001b[43moptions\u001b[49m\u001b[43m)\u001b[49m\n\u001b[32m   1899\u001b[39m \u001b[38;5;28;01mexcept\u001b[39;00m \u001b[38;5;167;01mException\u001b[39;00m:\n\u001b[32m   1900\u001b[39m     \u001b[38;5;28;01mif\u001b[39;00m \u001b[38;5;28mself\u001b[39m.handles \u001b[38;5;129;01mis\u001b[39;00m \u001b[38;5;129;01mnot\u001b[39;00m \u001b[38;5;28;01mNone\u001b[39;00m:\n",
      "\u001b[36mFile \u001b[39m\u001b[32mc:\\Users\\82105\\AppData\\Local\\Programs\\Python\\Python313\\Lib\\site-packages\\pandas\\io\\parsers\\c_parser_wrapper.py:93\u001b[39m, in \u001b[36mCParserWrapper.__init__\u001b[39m\u001b[34m(self, src, **kwds)\u001b[39m\n\u001b[32m     90\u001b[39m \u001b[38;5;28;01mif\u001b[39;00m kwds[\u001b[33m\"\u001b[39m\u001b[33mdtype_backend\u001b[39m\u001b[33m\"\u001b[39m] == \u001b[33m\"\u001b[39m\u001b[33mpyarrow\u001b[39m\u001b[33m\"\u001b[39m:\n\u001b[32m     91\u001b[39m     \u001b[38;5;66;03m# Fail here loudly instead of in cython after reading\u001b[39;00m\n\u001b[32m     92\u001b[39m     import_optional_dependency(\u001b[33m\"\u001b[39m\u001b[33mpyarrow\u001b[39m\u001b[33m\"\u001b[39m)\n\u001b[32m---> \u001b[39m\u001b[32m93\u001b[39m \u001b[38;5;28mself\u001b[39m._reader = \u001b[43mparsers\u001b[49m\u001b[43m.\u001b[49m\u001b[43mTextReader\u001b[49m\u001b[43m(\u001b[49m\u001b[43msrc\u001b[49m\u001b[43m,\u001b[49m\u001b[43m \u001b[49m\u001b[43m*\u001b[49m\u001b[43m*\u001b[49m\u001b[43mkwds\u001b[49m\u001b[43m)\u001b[49m\n\u001b[32m     95\u001b[39m \u001b[38;5;28mself\u001b[39m.unnamed_cols = \u001b[38;5;28mself\u001b[39m._reader.unnamed_cols\n\u001b[32m     97\u001b[39m \u001b[38;5;66;03m# error: Cannot determine type of 'names'\u001b[39;00m\n",
      "\u001b[36mFile \u001b[39m\u001b[32mparsers.pyx:574\u001b[39m, in \u001b[36mpandas._libs.parsers.TextReader.__cinit__\u001b[39m\u001b[34m()\u001b[39m\n",
      "\u001b[36mFile \u001b[39m\u001b[32mparsers.pyx:691\u001b[39m, in \u001b[36mpandas._libs.parsers.TextReader._get_header\u001b[39m\u001b[34m()\u001b[39m\n",
      "\u001b[31mUnicodeDecodeError\u001b[39m: 'utf-8' codec can't decode byte 0xc1 in position 0: invalid start byte"
     ]
    }
   ],
   "source": [
    "import os\n",
<<<<<<< HEAD
    "import re\n",
    "import pandas as pd\n",
    "from datetime import datetime\n",
    "import rasterio\n",
    "import numpy as np\n",
=======
    "import numpy as np\n",
    "import pandas as pd\n",
    "import rasterio\n",
>>>>>>> e04d4cb1e9922b9e6a42a81e9931b4db1c9e6b3c
    "\n",
    "# 제주 Hillshade 및 Output 디렉토리 설정\n",
    "hillshade_dir = r\"E:\\2025_Jeju_SectorCoupling\\SolarArea_Jeju\"\n",
    "output_dir = r\"E:\\2025_Jeju_SectorCoupling\\PVgen_Jeju\"\n",
    "csv_path = r\"E:\\2025_Jeju_SectorCoupling\\Jeju_Solar.csv\"\n",
    "\n",
<<<<<<< HEAD
    "# CSV 파일 로드\n",
    "df = pd.read_csv(csv_file, encoding='utf-8')\n",
    "\n",
    "# 일시 형식 변환 함수\n",
    "def convert_timestamp(timestamp):\n",
    "    return datetime.strptime(timestamp.replace(\"-\", \":\"), \"%Y-%m-%d %H:%M:%S\")\n",
    "\n",
    "# 파일명에서 datetime 추출 함수\n",
    "def extract_datetime(filename):\n",
    "    match = re.search(r'(\\d{4}-\\d{2}-\\d{2} \\d{2}):\\d{2}:\\d{2}', filename)\n",
    "    return datetime.strptime(match.group(1).replace(\"-\", \":\"), \"%Y-%m-%d %H:%M:%S\") if match else None\n",
    "\n",
    "# 각 행을 반복 처리\n",
    "for _, row in df.iterrows():\n",
    "    location, timestamp = row[0], row[1]\n",
    "    timestamp = convert_timestamp(timestamp)  # CSV의 일시를 datetime으로 변환\n",
    "    \n",
    "    if location not in hillshade_dirs:\n",
    "        continue\n",
    "\n",
    "    # 해당 지점의 Hillshade 파일 가져오기\n",
    "    raster_files = [f for f in os.listdir(hillshade_dirs[location]) if f.endswith('.tif')]\n",
    "    \n",
    "    for raster_file in raster_files:\n",
    "        raster_time = extract_datetime(raster_file)\n",
    "        \n",
    "        # 일시가 일치하지 않으면 넘어가기\n",
    "        if raster_time != timestamp:\n",
    "            continue\n",
    "        \n",
    "        # 래스터 파일 열기\n",
    "        raster_path = os.path.join(hillshade_dirs[location], raster_file)\n",
    "        with rasterio.open(raster_path) as src:\n",
    "            # 셀 영역 계산\n",
    "            cell_area = src.res[0] * src.res[1]\n",
    "            raster_data = src.read(1)\n",
    "            \n",
    "            # 일사량 반영\n",
    "            irradiance = row[2]\n",
    "            \n",
    "            # Hillshade가 null인 경우 결과도 null로 설정\n",
    "            hillshade_factor = np.where(np.isnan(raster_data), 0, 1)\n",
    "            \n",
    "            # 발전량 계산\n",
    "            solar_generation = np.where(hillshade_factor == 1, irradiance * 0.22 * cell_area * hillshade_factor, np.nan)\n",
    "            \n",
    "            # 결과를 새로운 래스터 파일로 저장\n",
    "            output_filename = f\"PVgen_{location}_{timestamp.strftime('%Y-%m-%d %H-%M')}.tif\"\n",
    "            output_path = os.path.join(output_dirs[location], output_filename)\n",
    "\n",
    "            # 저장할 래스터 파일 만들기\n",
    "            with rasterio.open(output_path, 'w', driver='GTiff', \n",
    "                               count=1, dtype=solar_generation.dtype,\n",
    "                               crs=src.crs, transform=src.transform,\n",
    "                               width=src.width, height=src.height) as dst:\n",
    "                dst.write(solar_generation, 1)\n",
    "            \n",
    "            # 파일이 저장되었음을 알림\n",
    "            print(f\"파일이 저장되었습니다: {output_path}\")\n",
    "\n",
    "\n"
=======
    "# Hillshade 파일 목록 가져오기\n",
    "raster_files = [f for f in os.listdir(hillshade_dir) if f.endswith('.tif')]\n",
    "\n",
    "# CSV 파일 읽기\n",
    "df = pd.read_csv(csv_path, encoding=\"utf-8\", na_values=[\"\", \"NA\", \"null\"])\n",
    "\n",
    "# 파일 개수 확인\n",
    "if len(raster_files) != len(df):\n",
    "    print(\"Warning: Hillshade 파일 개수와 CSV 행 개수가 일치하지 않습니다!\")\n",
    "    print(f\"Hillshade 파일 수: {len(raster_files)}, CSV 행 수: {len(df)}\")\n",
    "\n",
    "# Hillshade와 CSV 데이터를 순차적으로 매핑하여 발전량 계산\n",
    "for raster_file, (_, row) in zip(raster_files, df.iterrows()):\n",
    "    irradiance = row[1]  # CSV 두 번째 열의 일사량 데이터\n",
    "    \n",
    "    # Hillshade 파일 경로\n",
    "    raster_path = os.path.join(hillshade_dir, raster_file)\n",
    "    \n",
    "    with rasterio.open(raster_path) as src:\n",
    "        raster_data = src.read(1)\n",
    "        \n",
    "        # Hillshade Factor 계산\n",
    "        hillshade_factor = np.where(np.isnan(raster_data) | (raster_data == 0), 0, 1)\n",
    "        \n",
    "        # 발전량 계산\n",
    "        solar_generation = 0.22 * irradiance * hillshade_factor * 900\n",
    "        \n",
    "        # Output 파일 저장 경로 및 이름 설정\n",
    "        output_filename = f\"PVgen_Jeju_{raster_file}\"  # 파일 이름 재사용\n",
    "        output_path = os.path.join(output_dir, output_filename)\n",
    "        \n",
    "        # 결과 저장\n",
    "        with rasterio.open(output_path, 'w', driver='GTiff',\n",
    "                           count=1, dtype=solar_generation.dtype,\n",
    "                           crs=src.crs, transform=src.transform,\n",
    "                           width=src.width, height=src.height) as dst:\n",
    "            dst.write(solar_generation, 1)\n",
    "        \n",
    "        print(f\"파일이 저장되었습니다: {output_path}\")\n"
>>>>>>> e04d4cb1e9922b9e6a42a81e9931b4db1c9e6b3c
   ]
  }
 ],
 "metadata": {
  "kernelspec": {
   "display_name": "Python 3",
   "language": "python",
   "name": "python3"
  },
  "language_info": {
   "codemirror_mode": {
    "name": "ipython",
    "version": 3
   },
   "file_extension": ".py",
   "mimetype": "text/x-python",
   "name": "python",
   "nbconvert_exporter": "python",
   "pygments_lexer": "ipython3",
   "version": "3.13.2"
  }
 },
 "nbformat": 4,
 "nbformat_minor": 2
}
