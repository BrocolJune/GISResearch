{
 "cells": [
  {
   "cell_type": "code",
   "execution_count": null,
   "metadata": {},
   "outputs": [
    {
     "ename": "",
     "evalue": "",
     "output_type": "error",
     "traceback": [
      "\u001b[1;31mRunning cells with 'Python 3.13.2' requires the ipykernel package.\n",
      "\u001b[1;31mRun the following command to install 'ipykernel' into the Python environment. \n",
      "\u001b[1;31mCommand: 'c:/Users/kjj04/AppData/Local/Programs/Python/Python313-arm64/python.exe -m pip install ipykernel -U --user --force-reinstall'"
     ]
    }
   ],
   "source": [
    "pip install rasterio # type: ignore;"
   ]
  },
  {
   "cell_type": "code",
   "execution_count": null,
   "metadata": {},
   "outputs": [
    {
     "name": "stdout",
     "output_type": "stream",
     "text": [
      "Note: you may need to restart the kernel to use updated packages.\n"
     ]
    },
    {
     "name": "stderr",
     "output_type": "stream",
     "text": [
      "ERROR: Could not find a version that satisfies the requirement arcpy (from versions: none)\n",
      "ERROR: No matching distribution found for arcpy\n"
     ]
    }
   ],
   "source": [
    "pip install arcpy;"
   ]
  },
  {
   "cell_type": "code",
   "execution_count": null,
   "metadata": {},
   "outputs": [],
   "source": [
    "import os\n",
    "import re\n",
    "import pandas as pd\n",
    "from datetime import datetime\n",
    "import rasterio\n",
    "import numpy as np\n",
    "\n",
    "# CSV 파일 경로 설정\n",
    "csv_file = r\"E:\\2025_Jeju_SectorCoupling\\2024_Jeju_Solar.csv\"\n",
    "hillshade_dirs = {\n",
    "    '제주': r\"E:\\2025_Jeju_SectorCoupling\\SolarArea_Jeju\",\n",
    "    '고산': r\"E:\\2025_Jeju_SectorCoupling\\SolarArea_Gosan\",\n",
    "    '서귀포': r\"E:\\2025_Jeju_SectorCoupling\\SolarArea_Seoguipo\"\n",
    "}\n",
    "output_dirs = {\n",
    "    '제주': r\"E:\\2025_Jeju_SectorCoupling\\PVgen_Jeju\",\n",
    "    '고산': r\"E:\\2025_Jeju_SectorCoupling\\PVgen_Gosan\",\n",
    "    '서귀포': r\"E:\\2025_Jeju_SectorCoupling\\PVgen_Seoguipo\"\n",
    "}\n",
    "\n",
    "# CSV 파일 로드\n",
    "df = pd.read_csv(csv_file, encoding='utf-8')\n",
    "\n",
    "# 일시 형식 변환 함수\n",
    "def convert_timestamp(timestamp):\n",
    "    return datetime.strptime(timestamp.replace(\"-\", \":\"), \"%Y-%m-%d %H:%M:%S\")\n",
    "\n",
    "# 파일명에서 datetime 추출 함수\n",
    "def extract_datetime(filename):\n",
    "    # 모든 숫자를 추출\n",
    "    extracted_numbers = re.findall(r'\\d', filename)\n",
    "    \n",
    "    # 14자리 숫자가 있는지 확인\n",
    "    if len(extracted_numbers) >= 14:\n",
    "        result = ''.join(extracted_numbers[:14])  # 처음부터 14번째 숫자까지 이어 붙임\n",
    "    else:\n",
    "        print(\"Error:Wrong Filename\")\n",
    "        return None  # 숫자가 충분하지 않을 경우 종료\n",
    "\n",
    "    # 날짜와 시간을 분리 (result를 사용)\n",
    "    year = result[:4]\n",
    "    month = result[4:6]\n",
    "    day = result[6:8]\n",
    "    hour = result[8:10]\n",
    "    minute = result[10:12]\n",
    "    second = result[12:14]\n",
    "\n",
    "    # 원하는 포맷으로 결합\n",
    "    formatted_datetime = f\"{year}-{month}-{day} {hour}:{minute}:{second}\"\n",
    "    datetime_object = datetime.strptime(formatted_datetime, \"%Y-%m-%d %H:%M:%S\")\n",
    "    print(\"datetime 객체:\", datetime_object)\n",
    "    return datetime_object\n",
    "\n",
    "# 각 행을 반복 처리\n",
    "for _, row in df.iterrows():\n",
    "    location, timestamp = row[1], row[2]\n",
    "    timestamp = convert_timestamp(timestamp)  # CSV의 일시를 datetime으로 변환\n",
    "    \n",
    "    if location not in hillshade_dirs:\n",
    "        continue\n",
    "\n",
    "    # 해당 지점의 Hillshade 파일 가져오기\n",
    "    raster_files = [f for f in os.listdir(hillshade_dirs[location]) if f.endswith('.tif')]\n",
    "    \n",
    "    for raster_file in raster_files:\n",
    "        raster_time = extract_datetime(raster_file)\n",
    "        \n",
    "        # 일시가 일치하지 않으면 넘어가기\n",
    "        if raster_time != timestamp:\n",
    "            continue\n",
    "        \n",
    "        # 래스터 파일 열기\n",
    "        raster_path = os.path.join(hillshade_dirs[location], raster_file)\n",
    "        with rasterio.open(raster_path) as src:\n",
    "            # 셀 영역 계산\n",
    "            raster_data = src.read(1)\n",
    "            \n",
    "            # 일사량 반영\n",
    "            irradiance = row[3]\n",
    "            \n",
    "            # Hillshade가 null인 경우 결과도 null로 설정\n",
    "            hillshade_factor = np.where(np.isnan(raster_data), 0, 1)\n",
    "            \n",
    "            # 발전량 계산\n",
    "            solar_generation = np.where(hillshade_factor == 1, irradiance * 0.22 * 900 * hillshade_factor, np.nan)\n",
    "            \n",
    "            # 결과를 새로운 래스터 파일로 저장\n",
    "            output_filename = f\"PVgen_{location}_{timestamp.strftime('%Y-%m-%d %H-%M')}.tif\"\n",
    "            output_path = os.path.join(output_dirs[location], output_filename)\n",
    "\n",
    "            # 저장할 래스터 파일 만들기\n",
    "            with rasterio.open(output_path, 'w', driver='GTiff', \n",
    "                               count=1, dtype=solar_generation.dtype,\n",
    "                               crs=src.crs, transform=src.transform,\n",
    "                               width=src.width, height=src.height) as dst:\n",
    "                dst.write(solar_generation, 1)\n",
    "            \n",
    "            # 파일이 저장되었음을 알림\n",
    "            print(f\"파일이 저장되었습니다: {output_path}\")\n"
   ]
  }
 ],
 "metadata": {
  "kernelspec": {
   "display_name": "Python 3",
   "language": "python",
   "name": "python3"
  },
  "language_info": {
   "codemirror_mode": {
    "name": "ipython",
    "version": 3
   },
   "file_extension": ".py",
   "mimetype": "text/x-python",
   "name": "python",
   "nbconvert_exporter": "python",
   "pygments_lexer": "ipython3",
   "version": "3.13.2"
  }
 },
 "nbformat": 4,
 "nbformat_minor": 2
}
