{
 "cells": [
  {
   "cell_type": "code",
   "execution_count": null,
   "metadata": {},
   "outputs": [
    {
     "name": "stdout",
     "output_type": "stream",
     "text": [
      "Requirement already satisfied: rasterio in c:\\users\\82105\\appdata\\local\\programs\\python\\python313\\lib\\site-packages (1.4.3)\n",
      "Requirement already satisfied: affine in c:\\users\\82105\\appdata\\local\\programs\\python\\python313\\lib\\site-packages (from rasterio) (2.4.0)\n",
      "Requirement already satisfied: attrs in c:\\users\\82105\\appdata\\local\\programs\\python\\python313\\lib\\site-packages (from rasterio) (25.3.0)\n",
      "Requirement already satisfied: certifi in c:\\users\\82105\\appdata\\local\\programs\\python\\python313\\lib\\site-packages (from rasterio) (2025.1.31)\n",
      "Requirement already satisfied: click>=4.0 in c:\\users\\82105\\appdata\\local\\programs\\python\\python313\\lib\\site-packages (from rasterio) (8.1.8)\n",
      "Requirement already satisfied: cligj>=0.5 in c:\\users\\82105\\appdata\\local\\programs\\python\\python313\\lib\\site-packages (from rasterio) (0.7.2)\n",
      "Requirement already satisfied: numpy>=1.24 in c:\\users\\82105\\appdata\\local\\programs\\python\\python313\\lib\\site-packages (from rasterio) (2.2.4)\n",
      "Requirement already satisfied: click-plugins in c:\\users\\82105\\appdata\\local\\programs\\python\\python313\\lib\\site-packages (from rasterio) (1.1.1)\n",
      "Requirement already satisfied: pyparsing in c:\\users\\82105\\appdata\\local\\programs\\python\\python313\\lib\\site-packages (from rasterio) (3.2.2)\n",
      "Requirement already satisfied: colorama in c:\\users\\82105\\appdata\\roaming\\python\\python313\\site-packages (from click>=4.0->rasterio) (0.4.6)\n",
      "Note: you may need to restart the kernel to use updated packages.\n"
     ]
    },
    {
     "name": "stderr",
     "output_type": "stream",
     "text": [
      "\n",
      "[notice] A new release of pip is available: 24.3.1 -> 25.0.1\n",
      "[notice] To update, run: python.exe -m pip install --upgrade pip\n"
     ]
    }
   ],
   "source": [
    "from gettext import install\n",
    "import pip\n",
    "\n",
    "\n",
    "pip install rasterio"
   ]
  },
  {
   "cell_type": "code",
   "execution_count": 3,
   "metadata": {},
   "outputs": [
    {
     "name": "stdout",
     "output_type": "stream",
     "text": [
      "Note: you may need to restart the kernel to use updated packages.\n"
     ]
    },
    {
     "name": "stderr",
     "output_type": "stream",
     "text": [
      "ERROR: Could not find a version that satisfies the requirement arcpy (from versions: none)\n",
      "ERROR: No matching distribution found for arcpy\n"
     ]
    }
   ],
   "source": [
    "pip install arcpy"
   ]
  },
  {
   "cell_type": "code",
   "execution_count": null,
   "metadata": {},
   "outputs": [],
   "source": [
    "import os\n",
    "import re\n",
    "import arcpy\n",
    "from datetime import datetime\n",
    "\n",
    "# CSV 파일 경로 설정\n",
    "csv_file = r\"E:\\2025_Jeju_SectorCoupling\\2024_Jeju_Solar.csv\"\n",
    "hillshade_dirs = {\n",
    "    '제주': r\"E:\\2025_Jeju_SectorCoupling\\SolarArea_Jeju\",\n",
    "    '고산': r\"E:\\2025_Jeju_SectorCoupling\\SolarArea_Gosan\",\n",
    "    '서귀포': r\"E:\\2025_Jeju_SectorCoupling\\SolarArea_Seoguipo\"\n",
    "}\n",
    "output_dirs = {\n",
    "    '제주': r\"E:\\2025_Jeju_SectorCoupling\\PVgen_Jeju\",\n",
    "    '고산': r\"E:\\2025_Jeju_SectorCoupling\\PVgen_Gosan\",\n",
    "    '서귀포': r\"E:\\2025_Jeju_SectorCoupling\\PVgen_Seoguipo\"\n",
    "}\n",
    "\n",
    "# 파일명에서 datetime 추출 함수\n",
    "def extract_datetime(filename):\n",
    "    match = re.search(r'(\\d{4}-\\d{2}-\\d{2} \\d{2})-\\d{2}-\\d{2}\\+\\d{2}-\\d{2}', filename)\n",
    "    return datetime.strptime(match.group(1), '%Y-%m-%d %H:%M') if match else None\n",
    "\n",
    "# CSV 파일을 ArcPy로 로드 (CSV를 테이블로 읽음)\n",
    "table = arcpy.da.TableToNumPyArray(csv_file, ['지점명', '일시', '일사(MJ/m2)'])\n",
    "\n",
    "# 각 행을 반복 처리\n",
    "for row in table:\n",
    "    location, timestamp = row['지점명'], row['일시']\n",
    "    if location not in hillshade_dirs:\n",
    "        continue\n",
    "    \n",
    "    # 해당 지점의 Hillshade 파일 가져오기\n",
    "    raster_files = arcpy.ListFiles(os.path.join(hillshade_dirs[location], '*.tif'))\n",
    "    \n",
    "    for raster_file in raster_files:\n",
    "        raster_time = extract_datetime(raster_file)\n",
    "        if raster_time != timestamp:\n",
    "            continue\n",
    "        \n",
    "        # Hillshade 래스터 열기 (ArcPy로 래스터 처리)\n",
    "        raster = arcpy.Raster(raster_file)\n",
    "        cell_area = raster.meanCellHeight * raster.meanCellWidth\n",
    "        \n",
    "        # 일사량(MJ/m2)을 'irradiance' 변수에 반영\n",
    "        irradiance = row['일사(MJ/m2)']\n",
    "        \n",
    "        # Hillshade가 null인 경우 결과도 null로 설정\n",
    "        hillshade_factor = arcpy.sa.Con(arcpy.sa.IsNull(raster), None, arcpy.sa.Con(raster == 0, 0, 1))  \n",
    "        # Con(Null일 경우 None, Hillshade가 0이면 0, 그렇지 않으면 1)\n",
    "        \n",
    "        # 발전량 계산 (None 값에 대해 NaN을 설정하여 계산 오류 방지)\n",
    "        solar_generation = arcpy.sa.Con(hillshade_factor != None, irradiance * 0.22 * cell_area * hillshade_factor, None)\n",
    "        \n",
    "        # 결과를 새로운 래스터 파일로 저장\n",
    "        output_filename = f\"PVgen_{location}_{timestamp.strftime('%Y-%m-%d %H-%M')}.tif\"\n",
    "        output_path = os.path.join(output_dirs[location], output_filename)\n",
    "        \n",
    "        # ArcPy로 래스터 결과 저장\n",
    "        solar_generation.save(output_path)\n",
    "        \n",
    "        # 파일이 저장되었음을 알림\n",
    "        print(f\"파일이 저장되었습니다: {output_path}\")\n"
   ]
  }
 ],
 "metadata": {
  "kernelspec": {
   "display_name": "Python 3",
   "language": "python",
   "name": "python3"
  },
  "language_info": {
   "codemirror_mode": {
    "name": "ipython",
    "version": 3
   },
   "file_extension": ".py",
   "mimetype": "text/x-python",
   "name": "python",
   "nbconvert_exporter": "python",
   "pygments_lexer": "ipython3",
   "version": "3.13.2"
  }
 },
 "nbformat": 4,
 "nbformat_minor": 2
}
