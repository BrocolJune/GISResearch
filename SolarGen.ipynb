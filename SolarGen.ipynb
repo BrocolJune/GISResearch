{
 "cells": [
  {
   "cell_type": "code",
   "execution_count": null,
   "metadata": {},
   "outputs": [
    {
     "ename": "",
     "evalue": "",
     "output_type": "error",
     "traceback": [
      "\u001b[1;31mRunning cells with 'Python 3.13.2' requires the ipykernel package.\n",
      "\u001b[1;31mRun the following command to install 'ipykernel' into the Python environment. \n",
      "\u001b[1;31mCommand: 'c:/Users/kjj04/AppData/Local/Programs/Python/Python313-arm64/python.exe -m pip install ipykernel -U --user --force-reinstall'"
     ]
    }
   ],
   "source": [
    "pip install rasterio # type: ignore;"
   ]
  },
  {
   "cell_type": "code",
   "execution_count": null,
   "metadata": {},
   "outputs": [
    {
     "name": "stdout",
     "output_type": "stream",
     "text": [
      "Note: you may need to restart the kernel to use updated packages.\n"
     ]
    },
    {
     "name": "stderr",
     "output_type": "stream",
     "text": [
      "ERROR: Could not find a version that satisfies the requirement arcpy (from versions: none)\n",
      "ERROR: No matching distribution found for arcpy\n"
     ]
    }
   ],
   "source": [
    "pip install arcpy;"
   ]
  },
  {
   "cell_type": "code",
   "execution_count": null,
   "metadata": {},
   "outputs": [],
   "source": [
    "import os\n",
    "import numpy as np\n",
    "import pandas as pd\n",
    "import rasterio\n",
    "\n",
    "# 제주 Hillshade 및 Output 디렉토리 설정\n",
    "hillshade_dir = r\"E:\\2025_Jeju_SectorCoupling\\SolarArea_Jeju\"\n",
    "output_dir = r\"E:\\2025_Jeju_SectorCoupling\\PVgen_Jeju\"\n",
    "csv_path = r\"E:\\2025_Jeju_SectorCoupling\\Jeju_Solar.csv\"\n",
    "\n",
    "# Hillshade 파일 목록 가져오기\n",
    "raster_files = [f for f in os.listdir(hillshade_dir) if f.endswith('.tif')]\n",
    "\n",
    "# CSV 파일 읽기\n",
    "df = pd.read_csv(csv_path, encoding=\"utf-8\", na_values=[\"\", \"NA\", \"null\"])\n",
    "\n",
    "# 파일 개수 확인\n",
    "if len(raster_files) != len(df):\n",
    "    print(\"Warning: Hillshade 파일 개수와 CSV 행 개수가 일치하지 않습니다!\")\n",
    "    print(f\"Hillshade 파일 수: {len(raster_files)}, CSV 행 수: {len(df)}\")\n",
    "\n",
    "# Hillshade와 CSV 데이터를 순차적으로 매핑하여 발전량 계산\n",
    "for raster_file, (_, row) in zip(raster_files, df.iterrows()):\n",
    "    irradiance = row[1]  # CSV 두 번째 열의 일사량 데이터\n",
    "    \n",
    "    # Hillshade 파일 경로\n",
    "    raster_path = os.path.join(hillshade_dir, raster_file)\n",
    "    \n",
    "    with rasterio.open(raster_path) as src:\n",
    "        raster_data = src.read(1)\n",
    "        \n",
    "        # Hillshade Factor 계산\n",
    "        hillshade_factor = np.where(np.isnan(raster_data) | (raster_data == 0), 0, 1)\n",
    "        \n",
    "        # 발전량 계산\n",
    "        solar_generation = 0.22 * irradiance * hillshade_factor * 900\n",
    "        \n",
    "        # Output 파일 저장 경로 및 이름 설정\n",
    "        output_filename = f\"PVgen_Jeju_{raster_file}\"  # 파일 이름 재사용\n",
    "        output_path = os.path.join(output_dir, output_filename)\n",
    "        \n",
    "        # 결과 저장\n",
    "        with rasterio.open(output_path, 'w', driver='GTiff',\n",
    "                           count=1, dtype=solar_generation.dtype,\n",
    "                           crs=src.crs, transform=src.transform,\n",
    "                           width=src.width, height=src.height) as dst:\n",
    "            dst.write(solar_generation, 1)\n",
    "        \n",
    "        print(f\"파일이 저장되었습니다: {output_path}\")\n"
   ]
  }
 ],
 "metadata": {
  "kernelspec": {
   "display_name": "Python 3",
   "language": "python",
   "name": "python3"
  },
  "language_info": {
   "codemirror_mode": {
    "name": "ipython",
    "version": 3
   },
   "file_extension": ".py",
   "mimetype": "text/x-python",
   "name": "python",
   "nbconvert_exporter": "python",
   "pygments_lexer": "ipython3",
   "version": "3.13.2"
  }
 },
 "nbformat": 4,
 "nbformat_minor": 2
}
